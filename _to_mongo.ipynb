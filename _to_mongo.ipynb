{
 "cells": [
  {
   "cell_type": "markdown",
   "id": "5479eae7",
   "metadata": {},
   "source": [
    "## Azure to local to Mongo"
   ]
  },
  {
   "cell_type": "code",
   "execution_count": 10,
   "id": "e65d0eb2",
   "metadata": {},
   "outputs": [
    {
     "name": "stderr",
     "output_type": "stream",
     "text": [
      "C:\\Users\\aleja\\AppData\\Local\\Temp\\ipykernel_13944\\3472086165.py:19: UserWarning: pandas only supports SQLAlchemy connectable (engine/connection) or database string URI or sqlite3 DBAPI2 connection. Other DBAPI2 objects are not tested. Please consider using SQLAlchemy.\n",
      "  df = pd.read_sql(query, conn)\n"
     ]
    },
    {
     "name": "stdout",
     "output_type": "stream",
     "text": [
      " Datos migrados de Azure SQL a MongoDB.\n"
     ]
    }
   ],
   "source": [
    "import pyodbc\n",
    "import pandas as pd\n",
    "from pymongo import MongoClient\n",
    "\n",
    "# Conexión a Azure SQL\n",
    "AZURE_SERVER = 'uaxmathfis.database.windows.net'\n",
    "AZURE_DATABASE = 'usecases'\n",
    "AZURE_DRIVER = '{ODBC Driver 17 for SQL Server}'\n",
    "azure_conn_str =f\"DRIVER={AZURE_DRIVER};SERVER={AZURE_SERVER};DATABASE={AZURE_DATABASE};Authentication=ActiveDirectoryInteractive\"\n",
    "\n",
    "# Conexión a MongoDB local\n",
    "mongo_client = MongoClient(\"mongodb://localhost:27017/\")\n",
    "mongo_db = mongo_client[\"local\"]\n",
    "mongo_collection = mongo_db[\"mongo\"]\n",
    "\n",
    "# Consulta a SQL Server (modifica la tabla aquí)\n",
    "query = \"SELECT * FROM [DATAEX].[MONGO01_Bioquimicos]\"  # faltan las otras 5 tablas (1/6)\n",
    "with pyodbc.connect(azure_conn_str) as conn:\n",
    "    df = pd.read_sql(query, conn)\n",
    "\n",
    "# Inserción en MongoDB\n",
    "docs = df.to_dict(orient='records')\n",
    "mongo_collection.insert_many(docs)\n",
    "print(\" Datos migrados de Azure SQL a MongoDB.\")"
   ]
  },
  {
   "cell_type": "markdown",
   "id": "99842191",
   "metadata": {},
   "source": [
    "## CSV to Mongo"
   ]
  },
  {
   "cell_type": "code",
   "execution_count": null,
   "id": "5c1465a3",
   "metadata": {},
   "outputs": [
    {
     "name": "stdout",
     "output_type": "stream",
     "text": [
      "❌ Error de conexión: 127.0.0.1:27017: [WinError 10061] No se puede establecer una conexión ya que el equipo de destino denegó expresamente dicha conexión (configured timeouts: socketTimeoutMS: 20000.0ms, connectTimeoutMS: 20000.0ms), Timeout: 5.0s, Topology Description: <TopologyDescription id: 682496bfd5c25eee5b87fa9b, topology_type: Unknown, servers: [<ServerDescription ('127.0.0.1', 27017) server_type: Unknown, rtt: None, error=AutoReconnect('127.0.0.1:27017: [WinError 10061] No se puede establecer una conexión ya que el equipo de destino denegó expresamente dicha conexión (configured timeouts: socketTimeoutMS: 20000.0ms, connectTimeoutMS: 20000.0ms)')>]>\n"
     ]
    }
   ],
   "source": [
    "from pymongo import MongoClient\n",
    "client = MongoClient(host=\"127.0.0.1\", port=27017, serverSelectionTimeoutMS=5000)\n",
    "try:\n",
    "    client.admin.command(\"ping\")\n",
    "    print(\"✅ Conexión exitosa a MongoDB\")\n",
    "except Exception as e:\n",
    "    print(\"❌ Error de conexión:\", e)"
   ]
  },
  {
   "cell_type": "code",
   "execution_count": null,
   "id": "e0292803",
   "metadata": {},
   "outputs": [],
   "source": [
    "import pandas as pd\n",
    "from pymongo import MongoClient\n",
    "\n",
    "# Leer el CSV\n",
    "df = pd.read_csv(\"datos.csv\")\n",
    "\n",
    "# Conexión a MongoDB\n",
    "mongo_client = MongoClient(\"mongodb://localhost:27017/\")\n",
    "mongo_db = mongo_client[\"local\"]\n",
    "mongo_collection = mongo_db[\"mongo\"]\n",
    "\n",
    "# Subir a Mongo\n",
    "docs = df.to_dict(orient='records')\n",
    "mongo_collection.insert_many(docs)\n",
    "print(\" Archivo CSV subido a MongoDB.\")"
   ]
  }
 ],
 "metadata": {
  "kernelspec": {
   "display_name": "Python 3",
   "language": "python",
   "name": "python3"
  },
  "language_info": {
   "codemirror_mode": {
    "name": "ipython",
    "version": 3
   },
   "file_extension": ".py",
   "mimetype": "text/x-python",
   "name": "python",
   "nbconvert_exporter": "python",
   "pygments_lexer": "ipython3",
   "version": "3.12.6"
  }
 },
 "nbformat": 4,
 "nbformat_minor": 5
}
