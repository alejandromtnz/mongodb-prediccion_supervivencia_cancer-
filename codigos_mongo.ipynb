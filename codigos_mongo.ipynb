{
 "cells": [
  {
   "cell_type": "markdown",
   "id": "4fd311be",
   "metadata": {},
   "source": [
    "### sumatorio del numero de enfermedades"
   ]
  },
  {
   "cell_type": "code",
   "execution_count": null,
   "id": "1c1593fe",
   "metadata": {},
   "outputs": [],
   "source": [
    "db[\"clinicos.2\"].aggregate([\n",
    "  {\n",
    "    $addFields: {\n",
    "      total_patologias: {\n",
    "        $add: [\n",
    "          \"$diabetes\", \"$hipertension\", \"$obesidad\", \"$cancer\",\n",
    "          \"$enfermedad_cardiaca\", \"$asma\", \"$epoc\"\n",
    "        ]\n",
    "      }\n",
    "    }\n",
    "  },\n",
    "  {\n",
    "    $project: {\n",
    "      _id: 0,\n",
    "      paciente_id: 1,\n",
    "      total_patologias: 1\n",
    "    }\n",
    "  }\n",
    "])"
   ]
  },
  {
   "cell_type": "markdown",
   "id": "3b1d4d49",
   "metadata": {},
   "source": [
    "### devuelve glucosa, codigo postal y mayor/joven en función de si es >/< 50 años"
   ]
  },
  {
   "cell_type": "code",
   "execution_count": null,
   "id": "5fd92379",
   "metadata": {},
   "outputs": [],
   "source": [
    "db[\"bioquimicos.1\"].aggregate([\n",
    "  {\n",
    "    $lookup: {\n",
    "      from: \"sociodemograficos.6\",\n",
    "      localField: \"paciente_id\",\n",
    "      foreignField: \"paciente_id\",\n",
    "      as: \"socio\"\n",
    "    }\n",
    "  },\n",
    "  {\n",
    "    $unwind: \"$socio\"\n",
    "  },\n",
    "  {\n",
    "    $project: {\n",
    "      _id: 0,\n",
    "      paciente_id: 1,\n",
    "      glucosa: 1,\n",
    "      codigo_postal: \"$socio.codigo_postal\",\n",
    "      grupo_edad: {\n",
    "        $cond: {\n",
    "          if: { $gt: [\"$socio.edad\", 50] },\n",
    "          then: \"mayor\",\n",
    "          else: \"joven\"\n",
    "        }\n",
    "      }\n",
    "    }\n",
    "  }\n",
    "])"
   ]
  },
  {
   "cell_type": "markdown",
   "id": "10cc660e",
   "metadata": {},
   "source": [
    "#### igual pero juntando 3 tablas"
   ]
  },
  {
   "cell_type": "code",
   "execution_count": null,
   "id": "d923c557",
   "metadata": {},
   "outputs": [],
   "source": [
    "db[\"bioquimicos.1\"].aggregate([\n",
    "  {\n",
    "    $lookup: {\n",
    "      from: \"sociodemograficos.6\",\n",
    "      localField: \"paciente_id\",\n",
    "      foreignField: \"paciente_id\",\n",
    "      as: \"socio\"\n",
    "    }\n",
    "  },\n",
    "  { $unwind: \"$socio\" },\n",
    "\n",
    "  {\n",
    "    $lookup: {\n",
    "      from: \"clinicos.2\",\n",
    "      localField: \"paciente_id\",\n",
    "      foreignField: \"paciente_id\",\n",
    "      as: \"clinico\"\n",
    "    }\n",
    "  },\n",
    "  { $unwind: \"$clinico\" },\n",
    "\n",
    "  {\n",
    "    $project: {\n",
    "      _id: 0,\n",
    "      paciente_id: 1,\n",
    "      glucosa: 1,\n",
    "      codigo_postal: \"$socio.codigo_postal\",\n",
    "      grupo_edad: {\n",
    "        $cond: {\n",
    "          if: { $gt: [\"$socio.edad\", 50] },\n",
    "          then: \"mayor\",\n",
    "          else: \"joven\"\n",
    "        }\n",
    "      },\n",
    "      total_diagnosticos: {\n",
    "        $add: [\n",
    "          \"$clinico.diabetes\",\n",
    "          \"$clinico.hipertension\",\n",
    "          \"$clinico.obesidad\",\n",
    "          \"$clinico.cancer\",\n",
    "          \"$clinico.enfermedad_cardiaca\",\n",
    "          \"$clinico.asma\",\n",
    "          \"$clinico.epoc\"\n",
    "        ]\n",
    "      }\n",
    "    }\n",
    "  }\n",
    "])"
   ]
  }
 ],
 "metadata": {
  "language_info": {
   "name": "python"
  }
 },
 "nbformat": 4,
 "nbformat_minor": 5
}
