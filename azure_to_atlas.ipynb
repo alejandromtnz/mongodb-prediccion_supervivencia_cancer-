{
 "cells": [
  {
   "cell_type": "code",
   "execution_count": null,
   "id": "e65d0eb2",
   "metadata": {},
   "outputs": [],
   "source": [
    "import pyodbc\n",
    "import pandas as pd\n",
    "from pymongo import MongoClient\n",
    "# Conexión a Azure SQL\n",
    "AZURE_SERVER = 'uaxmathfis.database.windows.net'\n",
    "AZURE_DATABASE = 'usecases'\n",
    "AZURE_DRIVER = '{ODBC Driver 17 for SQL Server}'\n",
    "azure_conn_str =f\"DRIVER={AZURE_DRIVER};SERVER={AZURE_SERVER};DATABASE={AZURE_DATABASE};Authentication=ActiveDirectoryInteractive\"\n",
    "\n",
    "# Conexión a MongoDB local\n",
    "mongo_client = MongoClient(\"mongodb://localhost:27017/\")\n",
    "mongo_db = mongo_client[\"local\"]\n",
    "mongo_collection = mongo_db[\"mongo\"]\n",
    "\n",
    "# Consulta a SQL Server (modifica la tabla aquí)\n",
    "query = \"SELECT * FROM [DATAEX].[MONGO01_Bioquimicos]\"\n",
    "with pyodbc.connect(azure_conn_str) as conn:\n",
    "    df = pd.read_sql(query, conn)\n",
    "\n",
    "# Inserción en MongoDB\n",
    "docs = df.to_dict(orient='records')\n",
    "mongo_collection.insert_many(docs)\n",
    "print(\" Datos migrados de Azure SQL a MongoDB.\")"
   ]
  }
 ],
 "metadata": {
  "language_info": {
   "name": "python"
  }
 },
 "nbformat": 4,
 "nbformat_minor": 5
}
